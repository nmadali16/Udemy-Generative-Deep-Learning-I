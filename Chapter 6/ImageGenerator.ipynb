{
 "cells": [
  {
   "cell_type": "markdown",
   "metadata": {
    "id": "T4X9OW6UWQQJ"
   },
   "source": [
    "# Image generator\n",
    "\n",
    "This notebook allows to generate synthetic datasets of face images sampled from StyleGAN2. It saves both the images and their latent codes (in $\\mathcal{Z}$)."
   ]
  },
  {
   "cell_type": "markdown",
   "metadata": {
    "id": "gZpPgZr5JYPV"
   },
   "source": [
    "# Part 1 Retrieving the model\n",
    "If you have already retrieved the model, just %cd to the folder containing stylegan2-ada-pytorch/ and go to part 2.\n",
    "(Do not cd into stylegan2-ada-pytorch/, just to the folder containing it.)"
   ]
  },
  {
   "cell_type": "markdown",
   "metadata": {
    "id": "9-LxTZrXtZvh"
   },
   "source": [
    "Install StyleGAN2-ada-pytorch dependencies"
   ]
  },
  {
   "cell_type": "code",
   "execution_count": 1,
   "metadata": {
    "colab": {
     "base_uri": "https://localhost:8080/"
    },
    "executionInfo": {
     "elapsed": 10066,
     "status": "ok",
     "timestamp": 1704464413316,
     "user": {
      "displayName": "Victor Deng",
      "userId": "03951585107300993952"
     },
     "user_tz": -60
    },
    "id": "QFD_XD3etSDF",
    "outputId": "5da4b500-e490-49db-fa98-b64507be78a0"
   },
   "outputs": [
    {
     "name": "stdout",
     "output_type": "stream",
     "text": [
      "Requirement already satisfied: click in c:\\users\\nmadali\\appdata\\local\\anaconda3\\lib\\site-packages (8.0.4)\n",
      "Requirement already satisfied: requests in c:\\users\\nmadali\\appdata\\local\\anaconda3\\lib\\site-packages (2.31.0)\n",
      "Requirement already satisfied: tqdm in c:\\users\\nmadali\\appdata\\local\\anaconda3\\lib\\site-packages (4.65.0)\n",
      "Requirement already satisfied: pyspng in c:\\users\\nmadali\\appdata\\local\\anaconda3\\lib\\site-packages (0.1.1)\n",
      "Requirement already satisfied: ninja in c:\\users\\nmadali\\appdata\\local\\anaconda3\\lib\\site-packages (1.11.1.1)\n",
      "Requirement already satisfied: imageio-ffmpeg==0.4.3 in c:\\users\\nmadali\\appdata\\local\\anaconda3\\lib\\site-packages (0.4.3)\n",
      "Requirement already satisfied: colorama in c:\\users\\nmadali\\appdata\\local\\anaconda3\\lib\\site-packages (from click) (0.4.6)\n",
      "Requirement already satisfied: charset-normalizer<4,>=2 in c:\\users\\nmadali\\appdata\\local\\anaconda3\\lib\\site-packages (from requests) (2.0.4)\n",
      "Requirement already satisfied: idna<4,>=2.5 in c:\\users\\nmadali\\appdata\\local\\anaconda3\\lib\\site-packages (from requests) (3.4)\n",
      "Requirement already satisfied: urllib3<3,>=1.21.1 in c:\\users\\nmadali\\appdata\\local\\anaconda3\\lib\\site-packages (from requests) (1.26.16)\n",
      "Requirement already satisfied: certifi>=2017.4.17 in c:\\users\\nmadali\\appdata\\local\\anaconda3\\lib\\site-packages (from requests) (2023.7.22)\n",
      "Requirement already satisfied: numpy in c:\\users\\nmadali\\appdata\\local\\anaconda3\\lib\\site-packages (from pyspng) (1.24.3)\n"
     ]
    },
    {
     "name": "stderr",
     "output_type": "stream",
     "text": [
      "DEPRECATION: Loading egg at c:\\users\\nmadali\\appdata\\roaming\\python\\python311\\site-packages\\channelnorm_cuda-0.0.0-py3.11-win-amd64.egg is deprecated. pip 24.3 will enforce this behaviour change. A possible replacement is to use pip for package installation.. Discussion can be found at https://github.com/pypa/pip/issues/12330\n",
      "DEPRECATION: Loading egg at c:\\users\\nmadali\\appdata\\roaming\\python\\python311\\site-packages\\correlation_cuda-0.0.0-py3.11-win-amd64.egg is deprecated. pip 24.3 will enforce this behaviour change. A possible replacement is to use pip for package installation.. Discussion can be found at https://github.com/pypa/pip/issues/12330\n",
      "DEPRECATION: Loading egg at c:\\users\\nmadali\\appdata\\roaming\\python\\python311\\site-packages\\resample2d_cuda-0.0.0-py3.11-win-amd64.egg is deprecated. pip 24.3 will enforce this behaviour change. A possible replacement is to use pip for package installation.. Discussion can be found at https://github.com/pypa/pip/issues/12330\n",
      "\n",
      "[notice] A new release of pip is available: 23.3.1 -> 24.0\n",
      "[notice] To update, run: python.exe -m pip install --upgrade pip\n"
     ]
    }
   ],
   "source": [
    "!pip install click requests tqdm pyspng ninja imageio-ffmpeg==0.4.3"
   ]
  },
  {
   "cell_type": "markdown",
   "metadata": {
    "id": "0P-5TsTeJmwX"
   },
   "source": [
    "# Part 2 Generating and saving images"
   ]
  },
  {
   "cell_type": "code",
   "execution_count": 2,
   "metadata": {
    "id": "R2n92EjnkoAJ"
   },
   "outputs": [],
   "source": [
    "import torch, pickle\n",
    "import functools\n",
    "\n",
    "from mpl_toolkits.axes_grid1 import ImageGrid\n",
    "import matplotlib.pyplot as plt\n",
    "\n",
    "import numpy as np\n",
    "from tqdm import tqdm\n",
    "import os"
   ]
  },
  {
   "cell_type": "code",
   "execution_count": 3,
   "metadata": {},
   "outputs": [
    {
     "name": "stderr",
     "output_type": "stream",
     "text": [
      "'ls' n'est pas reconnu en tant que commande interne\n",
      "ou externe, un programme ex‚cutable ou un fichier de commandes.\n"
     ]
    }
   ],
   "source": [
    "!ls -l"
   ]
  },
  {
   "cell_type": "code",
   "execution_count": 4,
   "metadata": {
    "colab": {
     "base_uri": "https://localhost:8080/"
    },
    "executionInfo": {
     "elapsed": 2,
     "status": "ok",
     "timestamp": 1704980209122,
     "user": {
      "displayName": "Gurvan Richardeau",
      "userId": "08761909170587778949"
     },
     "user_tz": -60
    },
    "id": "GxF5YoDbuyDq",
    "outputId": "97514b46-e472-43c1-fa07-13c68c88f897"
   },
   "outputs": [],
   "source": [
    "\n",
    "!git clone https://github.com/rkuo2000/stylegan2-ada-pytorch\n",
    "%cd stylegan2-ada-pytorch"
   ]
  },
  {
   "cell_type": "code",
   "execution_count": null,
   "metadata": {},
   "outputs": [],
   "source": [
    "if not os.path.isdir(\"pretrained\"):\n",
    "  !mkdir pretrained\n",
    "  %cd pretrained\n",
    "  !wget https://nvlabs-fi-cdn.nvidia.com/stylegan2-ada-pytorch/pretrained/ffhq.pkl\n",
    "  %cd ../"
   ]
  },
  {
   "cell_type": "code",
   "execution_count": 5,
   "metadata": {
    "colab": {
     "base_uri": "https://localhost:8080/"
    },
    "executionInfo": {
     "elapsed": 15207,
     "status": "ok",
     "timestamp": 1704980225949,
     "user": {
      "displayName": "Gurvan Richardeau",
      "userId": "08761909170587778949"
     },
     "user_tz": -60
    },
    "id": "HiwhZdxYkr_4",
    "outputId": "25aa9800-95a5-429f-8753-87ff986fa264"
   },
   "outputs": [
    {
     "name": "stdout",
     "output_type": "stream",
     "text": [
      "C:\\Users\\nmadali\\Nabil\\GANSpace-Reimplementation-main\n"
     ]
    }
   ],
   "source": [
    "# Retrieving Generator\n",
    "device_name = 'cuda' if torch.cuda.is_available() else 'cpu'\n",
    "device = torch.device(device_name)\n",
    "\n",
    "with open('pretrained/ffhq.pkl', 'rb') as f:\n",
    "    G = pickle.load(f)['G_ema'].cuda()\n",
    "if device_name == \"cpu\":\n",
    "  G.synthesis.forward = functools.partial(G.synthesis.forward, force_fp32=True)\n",
    "\n",
    "\n",
    "%cd .."
   ]
  },
  {
   "cell_type": "markdown",
   "metadata": {
    "id": "eDk-CjZbprQ-"
   },
   "source": [
    "CD into the desired location for your dataset:"
   ]
  },
  {
   "cell_type": "code",
   "execution_count": 6,
   "metadata": {
    "id": "AleNCsGLoH3Z"
   },
   "outputs": [],
   "source": [
    "# Run if those directories do not already exist\n",
    "!mkdir test_UnlabeledImages\n",
    "!mkdir test_ImageLatentCodes"
   ]
  },
  {
   "cell_type": "code",
   "execution_count": 7,
   "metadata": {},
   "outputs": [],
   "source": [
    "if not os.path.exists('test_UnlabeledImages'):\n",
    "    os.makedirs('test_UnlabeledImages')\n",
    "if not os.path.exists('test_ImageLatentCodes'):\n",
    "    os.makedirs('test_ImageLatentCodes')"
   ]
  },
  {
   "cell_type": "markdown",
   "metadata": {
    "id": "f_jX6JZXqEJQ"
   },
   "source": [
    "Set `N0` to the index of the first image to generate and `N` to the number of images to generate. Setting `N0` here is useful if the Google Colab instance shuts down during generation."
   ]
  },
  {
   "cell_type": "markdown",
   "metadata": {
    "id": "SDJIHCeXqjS9"
   },
   "source": [
    "The cell below can be run several times to generate successive batches of images."
   ]
  },
  {
   "cell_type": "code",
   "execution_count": 8,
   "metadata": {
    "colab": {
     "background_save": true,
     "base_uri": "https://localhost:8080/",
     "output_embedded_package_id": "1RwDcEGYRNCrj8DWqWtzYU4zQLb9Zaol8"
    },
    "id": "3XkAYyHMkuIU",
    "outputId": "c002d5f5-762e-442a-b1ae-f892c028b1f8"
   },
   "outputs": [
    {
     "name": "stderr",
     "output_type": "stream",
     "text": [
      "\r\n",
      "  0%|                                                                                        | 0/50000 [00:00<?, ?it/s]"
     ]
    },
    {
     "name": "stdout",
     "output_type": "stream",
     "text": [
      "Setting up PyTorch plugin \"bias_act_plugin\"... Done.\n",
      "Setting up PyTorch plugin \"upfirdn2d_plugin\"... "
     ]
    },
    {
     "name": "stderr",
     "output_type": "stream",
     "text": [
      "\r\n",
      "  0%|                                                                            | 1/50000 [00:07<102:28:03,  7.38s/it]"
     ]
    },
    {
     "name": "stdout",
     "output_type": "stream",
     "text": [
      "Done.\n"
     ]
    },
    {
     "name": "stderr",
     "output_type": "stream",
     "text": [
      "100%|████████████████████████████████████████████████████████████████████████████| 50000/50000 [50:13<00:00, 16.59it/s]\n"
     ]
    },
    {
     "ename": "NameError",
     "evalue": "name 'N0' is not defined",
     "output_type": "error",
     "traceback": [
      "\u001b[1;31m---------------------------------------------------------------------------\u001b[0m",
      "\u001b[1;31mNameError\u001b[0m                                 Traceback (most recent call last)",
      "Cell \u001b[1;32mIn[8], line 9\u001b[0m\n\u001b[0;32m      7\u001b[0m     image \u001b[38;5;241m=\u001b[39m (\u001b[38;5;241m0.5\u001b[39m\u001b[38;5;241m*\u001b[39m(G(z, \u001b[38;5;28;01mNone\u001b[39;00m)[\u001b[38;5;241m0\u001b[39m]\u001b[38;5;241m+\u001b[39m\u001b[38;5;241m1\u001b[39m))\u001b[38;5;241m.\u001b[39mcpu()\u001b[38;5;241m.\u001b[39mdetach()\u001b[38;5;241m.\u001b[39mnumpy()\u001b[38;5;241m.\u001b[39mclip(\u001b[38;5;241m0\u001b[39m,\u001b[38;5;241m1\u001b[39m)\n\u001b[0;32m      8\u001b[0m     plt\u001b[38;5;241m.\u001b[39mimsave(\u001b[38;5;124mf\u001b[39m\u001b[38;5;124m'\u001b[39m\u001b[38;5;124mtest_UnlabeledImages/img\u001b[39m\u001b[38;5;132;01m{\u001b[39;00mk\u001b[38;5;132;01m}\u001b[39;00m\u001b[38;5;124m.jpg\u001b[39m\u001b[38;5;124m'\u001b[39m, image\u001b[38;5;241m.\u001b[39mtranspose(\u001b[38;5;241m1\u001b[39m, \u001b[38;5;241m2\u001b[39m, \u001b[38;5;241m0\u001b[39m))\n\u001b[1;32m----> 9\u001b[0m N0 \u001b[38;5;241m+\u001b[39m\u001b[38;5;241m=\u001b[39m N\n",
      "\u001b[1;31mNameError\u001b[0m: name 'N0' is not defined"
     ]
    }
   ],
   "source": [
    "N = 50000\n",
    "\n",
    "for k in tqdm(range(N)):\n",
    "  with torch.inference_mode():\n",
    "    z = torch.randn([1, G.z_dim]).to(device)\n",
    "    torch.save(z, f'test_ImageLatentCodes/tensor{k}.pt')\n",
    "    image = (0.5*(G(z, None)[0]+1)).cpu().detach().numpy().clip(0,1)\n",
    "    plt.imsave(f'test_UnlabeledImages/img{k}.jpg', image.transpose(1, 2, 0))\n"
   ]
  },
  {
   "cell_type": "markdown",
   "metadata": {
    "id": "CeBV5s1yq00v"
   },
   "source": [
    "Archiving could have been done here, but we had this idea after all the required datasets were generated. The code that we ran simply put all the files directly into Google Drive."
   ]
  }
 ],
 "metadata": {
  "accelerator": "GPU",
  "colab": {
   "provenance": []
  },
  "kernelspec": {
   "display_name": "Python 3 (ipykernel)",
   "language": "python",
   "name": "python3"
  },
  "language_info": {
   "codemirror_mode": {
    "name": "ipython",
    "version": 3
   },
   "file_extension": ".py",
   "mimetype": "text/x-python",
   "name": "python",
   "nbconvert_exporter": "python",
   "pygments_lexer": "ipython3",
   "version": "3.11.5"
  }
 },
 "nbformat": 4,
 "nbformat_minor": 1
}
