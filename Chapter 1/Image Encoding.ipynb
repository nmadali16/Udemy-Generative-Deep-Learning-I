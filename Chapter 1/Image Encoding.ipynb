{
 "cells": [
  {
   "cell_type": "code",
   "execution_count": null,
   "id": "1e343913",
   "metadata": {},
   "outputs": [],
   "source": [
    "import cv2\n",
    "import numpy as np\n",
    "import matplotlib.pyplot as plt"
   ]
  },
  {
   "cell_type": "code",
   "execution_count": null,
   "id": "0b069306",
   "metadata": {},
   "outputs": [],
   "source": [
    "\n",
    "\n",
    "# Read three images\n",
    "image1 = cv2.imread('Images/image1.jpg')\n",
    "image2 = cv2.imread('Images/image2.jpg')\n",
    "image3 = cv2.imread('Images/image3.jpg')"
   ]
  },
  {
   "cell_type": "code",
   "execution_count": null,
   "id": "05255bdf",
   "metadata": {},
   "outputs": [],
   "source": [
    "# Display original images\n",
    "plt.figure(figsize=(10, 4))\n",
    "plt.subplot(131)\n",
    "plt.imshow(cv2.cvtColor(image1, cv2.COLOR_BGR2RGB))\n",
    "plt.title('Original Image 1')\n",
    "plt.axis('off')\n",
    "\n",
    "plt.subplot(132)\n",
    "plt.imshow(cv2.cvtColor(image2, cv2.COLOR_BGR2RGB))\n",
    "plt.title('Original Image 2')\n",
    "plt.axis('off')\n",
    "\n",
    "plt.subplot(133)\n",
    "plt.imshow(cv2.cvtColor(image3, cv2.COLOR_BGR2RGB))\n",
    "plt.title('Original Image 3')\n",
    "plt.axis('off')\n",
    "plt.show()\n"
   ]
  },
  {
   "cell_type": "code",
   "execution_count": null,
   "id": "585b90c4",
   "metadata": {},
   "outputs": [],
   "source": [
    "# Convert images to grayscale\n",
    "gray_image1 = cv2.cvtColor(image1, cv2.COLOR_BGR2GRAY)\n",
    "gray_image2 = cv2.cvtColor(image2, cv2.COLOR_BGR2GRAY)\n",
    "gray_image3 = cv2.cvtColor(image3, cv2.COLOR_BGR2GRAY)\n",
    "\n",
    "# Display grayscale images\n",
    "plt.figure(figsize=(10, 4))\n",
    "plt.subplot(131)\n",
    "plt.imshow(gray_image1, cmap='gray')\n",
    "plt.title('Grayscale Image 1')\n",
    "plt.axis('off')\n",
    "\n",
    "plt.subplot(132)\n",
    "plt.imshow(gray_image2, cmap='gray')\n",
    "plt.title('Grayscale Image 2')\n",
    "plt.axis('off')\n",
    "\n",
    "plt.subplot(133)\n",
    "plt.imshow(gray_image3, cmap='gray')\n",
    "plt.title('Grayscale Image 3')\n",
    "plt.axis('off')\n",
    "plt.show()"
   ]
  },
  {
   "cell_type": "code",
   "execution_count": null,
   "id": "1141d4c1",
   "metadata": {},
   "outputs": [],
   "source": [
    "# Resize images to 256x256\n",
    "resized_image1 = cv2.resize(gray_image1, (256, 256))\n",
    "resized_image2 = cv2.resize(gray_image2, (256, 256))\n",
    "resized_image3 = cv2.resize(gray_image3, (256, 256))\n",
    "\n",
    "# Display resized images\n",
    "plt.figure(figsize=(10, 4))\n",
    "plt.subplot(131)\n",
    "plt.imshow(resized_image1, cmap='gray')\n",
    "plt.title('Resized Image 1')\n",
    "plt.axis('off')\n",
    "\n",
    "plt.subplot(132)\n",
    "plt.imshow(resized_image2, cmap='gray')\n",
    "plt.title('Resized Image 2')\n",
    "plt.axis('off')\n",
    "\n",
    "plt.subplot(133)\n",
    "plt.imshow(resized_image3, cmap='gray')\n",
    "plt.title('Resized Image 3')\n",
    "plt.axis('off')\n",
    "plt.show()"
   ]
  },
  {
   "cell_type": "code",
   "execution_count": null,
   "id": "63aa6799",
   "metadata": {},
   "outputs": [],
   "source": [
    "# Flatten images\n",
    "flattened_image1 = resized_image1.flatten().reshape(1,-1)\n",
    "flattened_image2 = resized_image2.flatten().reshape(1,-1)\n",
    "flattened_image3 = resized_image3.flatten().reshape(1,-1)\n",
    "\n",
    "print(flattened_image1.shape)\n",
    "print(flattened_image2.shape)\n",
    "print(flattened_image3.shape)"
   ]
  },
  {
   "cell_type": "code",
   "execution_count": null,
   "id": "7b7a740b",
   "metadata": {},
   "outputs": [],
   "source": [
    "\n",
    "random_weights = np.random.rand(256*256,256)\n",
    "print('Weight 1 :', random_weights.shape)"
   ]
  },
  {
   "cell_type": "code",
   "execution_count": null,
   "id": "d73d7dc3",
   "metadata": {},
   "outputs": [],
   "source": [
    ".shape"
   ]
  },
  {
   "cell_type": "code",
   "execution_count": null,
   "id": "eca88a48",
   "metadata": {},
   "outputs": [],
   "source": [
    "# Map to 256-dimensional vector\n",
    "weighted_image1 = np.dot(flattened_image1 , random_weights)\n",
    "weighted_image2 = np.dot(flattened_image2 , random_weights)\n",
    "weighted_image3 = np.dot(flattened_image3 , random_weights)"
   ]
  },
  {
   "cell_type": "code",
   "execution_count": null,
   "id": "89fa0f84",
   "metadata": {},
   "outputs": [],
   "source": [
    "random_weights2 = np.random.rand(256,2)\n",
    "print('Weight 2 :', random_weights2.shape)"
   ]
  },
  {
   "cell_type": "code",
   "execution_count": null,
   "id": "71d9296b",
   "metadata": {},
   "outputs": [],
   "source": [
    "# Map to 2-dimensional vector\n",
    "pts1 = np.dot(weighted_image1, random_weights2)\n",
    "pts2 = np.dot(weighted_image2, random_weights2)\n",
    "pts3 = np.dot(weighted_image3, random_weights2)\n"
   ]
  },
  {
   "cell_type": "code",
   "execution_count": null,
   "id": "31db0af7",
   "metadata": {},
   "outputs": [],
   "source": [
    "\n",
    "\n",
    "# Scatter plot\n",
    "plt.scatter(pts1[0,0],pts1[0,1],label=\"Mona Lisa\")\n",
    "plt.scatter(pts2[0,0],pts2[0,1],label=\"Starry Night\")\n",
    "plt.scatter(pts3[0,0],pts3[0,1],label=\"Girl with a Pearl Earring\")\n",
    "plt.title('Scatter plot of 2D latent')\n",
    "plt.xlabel('Dimension 1')\n",
    "plt.ylabel('Dimension 2')\n",
    "plt.legend()\n",
    "plt.show()"
   ]
  },
  {
   "cell_type": "code",
   "execution_count": null,
   "id": "316af355",
   "metadata": {},
   "outputs": [],
   "source": [
    "pts1.shape"
   ]
  },
  {
   "cell_type": "code",
   "execution_count": null,
   "id": "d7061a40",
   "metadata": {},
   "outputs": [],
   "source": []
  }
 ],
 "metadata": {
  "kernelspec": {
   "display_name": "Python 3 (ipykernel)",
   "language": "python",
   "name": "python3"
  },
  "language_info": {
   "codemirror_mode": {
    "name": "ipython",
    "version": 3
   },
   "file_extension": ".py",
   "mimetype": "text/x-python",
   "name": "python",
   "nbconvert_exporter": "python",
   "pygments_lexer": "ipython3",
   "version": "3.11.5"
  }
 },
 "nbformat": 4,
 "nbformat_minor": 5
}
